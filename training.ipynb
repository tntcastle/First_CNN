{
 "cells": [
  {
   "cell_type": "markdown",
   "id": "0dec712f-05fd-4aa2-a82d-e192949f337b",
   "metadata": {},
   "source": [
    "# CNN From Ch.12 using ShallowNet"
   ]
  },
  {
   "cell_type": "code",
   "execution_count": 1,
   "id": "1bbad1b6-5512-44fe-bb09-2436db03efe5",
   "metadata": {},
   "outputs": [
    {
     "ename": "ModuleNotFoundError",
     "evalue": "No module named 'torch'",
     "output_type": "error",
     "traceback": [
      "\u001b[1;31m---------------------------------------------------------------------------\u001b[0m",
      "\u001b[1;31mModuleNotFoundError\u001b[0m                       Traceback (most recent call last)",
      "Cell \u001b[1;32mIn[1], line 1\u001b[0m\n\u001b[1;32m----> 1\u001b[0m \u001b[38;5;28;01mimport\u001b[39;00m \u001b[38;5;21;01mtorch\u001b[39;00m\n\u001b[0;32m      2\u001b[0m \u001b[38;5;28;01mimport\u001b[39;00m \u001b[38;5;21;01mtorch\u001b[39;00m\u001b[38;5;21;01m.\u001b[39;00m\u001b[38;5;21;01mnn\u001b[39;00m \u001b[38;5;28;01mas\u001b[39;00m \u001b[38;5;21;01mnn\u001b[39;00m\n\u001b[0;32m      3\u001b[0m \u001b[38;5;28;01mimport\u001b[39;00m \u001b[38;5;21;01mtorch\u001b[39;00m\u001b[38;5;21;01m.\u001b[39;00m\u001b[38;5;21;01moptim\u001b[39;00m \u001b[38;5;28;01mas\u001b[39;00m \u001b[38;5;21;01moptim\u001b[39;00m\n",
      "\u001b[1;31mModuleNotFoundError\u001b[0m: No module named 'torch'"
     ]
    }
   ],
   "source": [
    "import torch\n",
    "import torch.nn as nn\n",
    "import torch.optim as optim\n",
    "import torchvision\n",
    "import torchvision.transforms as transforms\n",
    "import matplotlib.pyplot as plt\n",
    "import numpy as np\n",
    "\n",
    "# checks to see if GPU is available\n",
    "device = torch.device(\"cuda\" if torch.cuda.is_available() else \"cpu\")\n",
    "print(\"CUDA Available: \", torch.cuda.is_available())\n",
    "print(torch.version.cuda)"
   ]
  },
  {
   "cell_type": "markdown",
   "id": "fc64424d-6364-4045-a39e-dd4aad2c03e7",
   "metadata": {},
   "source": [
    "## ShallowNet Model\n",
    "Simple CNN, using 1 convolutional layer that contains 32 filters with a 3x3 kernel"
   ]
  },
  {
   "cell_type": "code",
   "execution_count": null,
   "id": "b1bfceae-4e3d-44f3-bc37-df1129aa65bf",
   "metadata": {},
   "outputs": [],
   "source": [
    "# ShallowNet model\n",
    "class ShallowNet(nn.Module):\n",
    "    def __init__(self):\n",
    "        super(ShallowNet, self).__init__()\n",
    "        \n",
    "        # only convolution layer. 1 channel, so no RGB\n",
    "        # output: 32 feature maps\n",
    "        # kernel: 3x3\n",
    "        # padding 1 (so kernel doesn't go off the edge)\n",
    "        self.conv1 = nn.Conv2d(1, 32, kernel_size = 3, padding=1)\n",
    "\n",
    "        # activation for non-linearity (more complex patterns)\n",
    "        self.relu = nn.ReLU()\n",
    "\n",
    "        # flatten layer, converts feature maps into 1d vectors\n",
    "        self.flatten = nn.Flatten()\n",
    "\n",
    "        # FC layer\n",
    "        # input size: 32 by 28 by 28 since MNIST is 28x28\n",
    "        # output: 10 (1 neuron per digit class 0-9)\n",
    "        self.fc = nn.Linear(32 * 28 * 28, 10)\n",
    "\n",
    "    def forward(self, x):\n",
    "        x = self.conv1(x)\n",
    "        x = self.relu(x)\n",
    "        x = self.flatten(x)\n",
    "        x = self.fc(x)\n",
    "        return x"
   ]
  },
  {
   "cell_type": "markdown",
   "id": "68e3717d-475b-4ac3-8d17-d087a2ce2f5a",
   "metadata": {},
   "source": [
    "## Dataset\n",
    "MNIST, contains handwritten digits 0-9\n",
    "\n",
    "Test set acts as the validation set"
   ]
  },
  {
   "cell_type": "code",
   "execution_count": null,
   "id": "82316b4a-c37a-409b-8c44-bfb88a4d328f",
   "metadata": {},
   "outputs": [],
   "source": [
    "transform = transforms.Compose([transforms.ToTensor()])\n",
    "train_dataset = torchvision.datasets.MNIST(root='./data', train=True, transform=transform, download=True)\n",
    "test_dataset = torchvision.datasets.MNIST(root='./data', train=False, transform=transform, download=True)\n",
    "\n",
    "train_loader = torch.utils.data.DataLoader(train_dataset, batch_size=32, shuffle=True)\n",
    "test_loader = torch.utils.data.DataLoader(test_dataset, batch_size=32, shuffle=False)\n",
    "\n",
    "print(\"Train: \", len(train_dataset))\n",
    "print(\"Test:  \", len(test_dataset))"
   ]
  },
  {
   "cell_type": "code",
   "execution_count": null,
   "id": "5b92025a-97b6-47a7-9d71-38cb925601f6",
   "metadata": {},
   "outputs": [],
   "source": [
    "# ChatGPT code to display a sample from the dataset\n",
    "sample_loader = torch.utils.data.DataLoader(train_dataset, batch_size=1, shuffle=True)\n",
    "sample_image, sample_label = next(iter(sample_loader))\n",
    "sample_image_np = sample_image.squeeze().numpy()  \n",
    "plt.imshow(sample_image_np, cmap=\"gray\")\n",
    "plt.title(f\"Label: {sample_label.item()}\")\n",
    "plt.axis(\"off\")\n",
    "plt.show()"
   ]
  },
  {
   "cell_type": "markdown",
   "id": "917e21c8-6b01-4d47-9cf5-f097956e05d2",
   "metadata": {},
   "source": [
    "## Model Training"
   ]
  },
  {
   "cell_type": "code",
   "execution_count": null,
   "id": "2348eb55-8d81-405e-8632-cca89d125213",
   "metadata": {},
   "outputs": [],
   "source": [
    "# training params\n",
    "# num times the dataset will be passed through the network\n",
    "num_epochs = 5\n",
    "\n",
    "# model initialization\n",
    "model = ShallowNet().to(device)\n",
    "\n",
    "# loss function and optimizer\n",
    "criterion = nn.CrossEntropyLoss() \n",
    "optimizer = optim.SGD(model.parameters(), lr=0.01)\n",
    "\n",
    "# lists to store training and testing loss/accuracy\n",
    "train_losses, test_losses = [], []\n",
    "train_acc, test_acc = [], []"
   ]
  },
  {
   "cell_type": "code",
   "execution_count": null,
   "id": "4ab941af-f338-42e3-80ff-f5472db99a48",
   "metadata": {},
   "outputs": [],
   "source": [
    "# training loop\n",
    "for epoch in range(num_epochs):\n",
    "    model.train() # puts model in training mode\n",
    "    correct, total, epoch_loss = 0,0,0\n",
    "\n",
    "    # iterate through dataset in batches\n",
    "    for images, labels in train_loader:\n",
    "        images, labels = images.to(device), labels.to(device) # moves to GPU\n",
    "        optimizer.zero_grad() # zero gradients to prevent accumulation\n",
    "        outputs = model(images) # forward pass, predictions\n",
    "        loss = criterion(outputs, labels) # computes loss between predictions and true\n",
    "        loss.backward() # backward pass\n",
    "        optimizer.step() # update params\n",
    "\n",
    "        # track loss and accuracy\n",
    "        epoch_loss += loss.item()\n",
    "        _, predicted = torch.max(outputs, 1)\n",
    "        total += labels.size(0)\n",
    "        correct += (predicted == labels).sum().item()\n",
    "\n",
    "    train_losses.append(epoch_loss/len(train_loader))\n",
    "    train_acc.append(correct/total)\n",
    "\n",
    "    # evaluate model on test\n",
    "    model.eval()\n",
    "    correct, total, test_loss = 0,0,0\n",
    "\n",
    "    # Disable gradient computation\n",
    "    with torch.no_grad():\n",
    "        for images, labels in test_loader:\n",
    "            images, labels = images.to(device), labels.to(device)\n",
    "            outputs = model(images)\n",
    "            loss = criterion(outputs, labels)\n",
    "            test_loss += loss.item()\n",
    "            _, predicted = torch.max(outputs, 1)\n",
    "            total += labels.size(0)\n",
    "            correct += (predicted == labels).sum().item()\n",
    "\n",
    "    #store test loss and accuracy\n",
    "    test_losses.append(test_loss / len(test_loader))\n",
    "    test_acc.append(correct / total)\n",
    "            \n",
    "    print(f\"Epoch [{epoch+1}/{num_epochs}], Train Loss: {train_losses[-1]:.4f}, \"\n",
    "          f\"Train Acc: {train_acc[-1]*100:.2f}%, Test Acc: {test_acc[-1]*100:.2f}%\")\n",
    "    \n",
    "# Plot training history\n",
    "plt.figure(figsize=(10, 4))\n",
    "\n",
    "# Plot loss over epochs\n",
    "plt.subplot(1, 2, 1)\n",
    "plt.plot(range(num_epochs), train_losses, label=\"Train Loss\")\n",
    "plt.plot(range(num_epochs), test_losses, label=\"Test Loss\")\n",
    "plt.xlabel(\"Epochs\")\n",
    "plt.ylabel(\"Loss\")\n",
    "plt.legend()\n",
    "\n",
    "# Plot accuracy over epochs\n",
    "plt.subplot(1, 2, 2)\n",
    "plt.plot(range(num_epochs), train_acc, label=\"Train Accuracy\")\n",
    "plt.plot(range(num_epochs), test_acc, label=\"Test Accuracy\")\n",
    "plt.xlabel(\"Epochs\")\n",
    "plt.ylabel(\"Accuracy\")\n",
    "plt.legend()\n",
    "\n",
    "plt.suptitle(\"ShallowNet Training on MNIST\")\n",
    "plt.show()    \n",
    "        "
   ]
  }
 ],
 "metadata": {
  "kernelspec": {
   "display_name": "Python (py310)",
   "language": "python",
   "name": "py310"
  },
  "language_info": {
   "codemirror_mode": {
    "name": "ipython",
    "version": 3
   },
   "file_extension": ".py",
   "mimetype": "text/x-python",
   "name": "python",
   "nbconvert_exporter": "python",
   "pygments_lexer": "ipython3",
   "version": "3.10.16"
  }
 },
 "nbformat": 4,
 "nbformat_minor": 5
}
