{
 "cells": [
  {
   "cell_type": "markdown",
   "id": "0dec712f-05fd-4aa2-a82d-e192949f337b",
   "metadata": {},
   "source": [
    "# CNN From Ch.12 using ShallowNet"
   ]
  },
  {
   "cell_type": "code",
   "execution_count": 5,
   "id": "1bbad1b6-5512-44fe-bb09-2436db03efe5",
   "metadata": {},
   "outputs": [
    {
     "name": "stdout",
     "output_type": "stream",
     "text": [
      "CUDA Available:  True\n",
      "12.1\n"
     ]
    }
   ],
   "source": [
    "import torch\n",
    "import torch.nn as nn\n",
    "import torch.optim as optim\n",
    "import torchvision\n",
    "import torchvision.transforms as transforms\n",
    "import matplotlib.pyplot as plt\n",
    "import numpy as np\n",
    "\n",
    "# checks to see if GPU is available\n",
    "device = torch.device(\"cuda\" if torch.cuda.is_available() else \"cpu\")\n",
    "print(\"CUDA Available: \", torch.cuda.is_available())\n",
    "print(torch.version.cuda)"
   ]
  },
  {
   "cell_type": "markdown",
   "id": "fc64424d-6364-4045-a39e-dd4aad2c03e7",
   "metadata": {},
   "source": [
    "## ShallowNet Model"
   ]
  },
  {
   "cell_type": "code",
   "execution_count": 8,
   "id": "b1bfceae-4e3d-44f3-bc37-df1129aa65bf",
   "metadata": {},
   "outputs": [],
   "source": [
    "# ShallowNet model\n",
    "class ShallowNet(nn.Module):\n",
    "    def __init__(self):\n",
    "        super(ShallowNet, self).__init__()\n",
    "        \n",
    "        # only convolution layer\n",
    "        # 1 channel, so no RGB\n",
    "        # output: 32 feature maps\n",
    "        # kernel: 3x3\n",
    "        # padding 1: so kernel doesn't go off the edge\n",
    "        self.conv1 = nn.Conv2d(1, 32, kernel_size = 3, padding=1)\n",
    "\n",
    "        # activation for non-linearity (more complex patterns)\n",
    "        self.relu = nn.ReLu()\n",
    "\n",
    "        # flatten layer, converts feature maps into 1d vectors\n",
    "        self.flatten = nn.flatten()\n",
    "\n",
    "        # FC layer\n",
    "        # input size: 32 by 28 by 28 since MNIST is 28x28\n",
    "        # output: 10 (1 neuron per digit class 0-9)\n",
    "        self.fc = nn.linear(32 * 28 * 28, 10)\n",
    "\n",
    "    def forward(self, x):\n",
    "        x = self.conv1(x)\n",
    "        x = self.relu(x)\n",
    "        x = self.flatten(x)\n",
    "        x = self.fc(x)\n",
    "        return x"
   ]
  }
 ],
 "metadata": {
  "kernelspec": {
   "display_name": "Python 3 (ipykernel)",
   "language": "python",
   "name": "python3"
  },
  "language_info": {
   "codemirror_mode": {
    "name": "ipython",
    "version": 3
   },
   "file_extension": ".py",
   "mimetype": "text/x-python",
   "name": "python",
   "nbconvert_exporter": "python",
   "pygments_lexer": "ipython3",
   "version": "3.10.11"
  }
 },
 "nbformat": 4,
 "nbformat_minor": 5
}
